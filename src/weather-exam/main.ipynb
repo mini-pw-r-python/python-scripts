{
 "cells": [
  {
   "cell_type": "markdown",
   "metadata": {},
   "source": [
    "# How was the wheater during session in WUT?\n",
    "\n",
    "We define exam session time as first two weeks of Feburary and last two weeks of June."
   ]
  },
  {
   "cell_type": "markdown",
   "metadata": {},
   "source": [
    "## Instalation of libraries"
   ]
  },
  {
   "cell_type": "code",
   "execution_count": 1,
   "metadata": {},
   "outputs": [
    {
     "name": "stdout",
     "output_type": "stream",
     "text": [
      "Collecting openmeteo-requests\n",
      "  Downloading openmeteo_requests-1.2.0-py3-none-any.whl.metadata (7.6 kB)\n",
      "Collecting openmeteo-sdk>=1.4.0 (from openmeteo-requests)\n",
      "  Downloading openmeteo_sdk-1.11.6-py3-none-any.whl.metadata (13 kB)\n",
      "Requirement already satisfied: requests in /usr/local/lib/python3.11/site-packages (from openmeteo-requests) (2.31.0)\n",
      "Collecting flatbuffers>=24.0.0 (from openmeteo-sdk>=1.4.0->openmeteo-requests)\n",
      "  Downloading flatbuffers-24.3.25-py2.py3-none-any.whl.metadata (850 bytes)\n",
      "Requirement already satisfied: charset-normalizer<4,>=2 in /usr/local/lib/python3.11/site-packages (from requests->openmeteo-requests) (3.3.0)\n",
      "Requirement already satisfied: idna<4,>=2.5 in /usr/local/lib/python3.11/site-packages (from requests->openmeteo-requests) (3.4)\n",
      "Requirement already satisfied: urllib3<3,>=1.21.1 in /usr/local/lib/python3.11/site-packages (from requests->openmeteo-requests) (2.0.6)\n",
      "Requirement already satisfied: certifi>=2017.4.17 in /usr/local/lib/python3.11/site-packages (from requests->openmeteo-requests) (2023.7.22)\n",
      "Downloading openmeteo_requests-1.2.0-py3-none-any.whl (5.5 kB)\n",
      "Downloading openmeteo_sdk-1.11.6-py3-none-any.whl (12 kB)\n",
      "Downloading flatbuffers-24.3.25-py2.py3-none-any.whl (26 kB)\n",
      "Installing collected packages: flatbuffers, openmeteo-sdk, openmeteo-requests\n",
      "Successfully installed flatbuffers-24.3.25 openmeteo-requests-1.2.0 openmeteo-sdk-1.11.6\n",
      "Collecting requests-cache\n",
      "  Downloading requests_cache-1.2.0-py3-none-any.whl.metadata (9.9 kB)\n",
      "Collecting retry-requests\n",
      "  Downloading retry_requests-2.0.0-py3-none-any.whl.metadata (2.6 kB)\n",
      "Requirement already satisfied: numpy in /usr/local/lib/python3.11/site-packages (1.24.3)\n",
      "Requirement already satisfied: pandas in /usr/local/lib/python3.11/site-packages (2.1.1)\n",
      "Requirement already satisfied: attrs>=21.2 in /usr/local/lib/python3.11/site-packages (from requests-cache) (23.1.0)\n",
      "Collecting cattrs>=22.2 (from requests-cache)\n",
      "  Downloading cattrs-23.2.3-py3-none-any.whl.metadata (10 kB)\n",
      "Requirement already satisfied: platformdirs>=2.5 in /usr/local/lib/python3.11/site-packages (from requests-cache) (3.2.0)\n",
      "Requirement already satisfied: requests>=2.22 in /usr/local/lib/python3.11/site-packages (from requests-cache) (2.31.0)\n",
      "Collecting url-normalize>=1.4 (from requests-cache)\n",
      "  Downloading url_normalize-1.4.3-py2.py3-none-any.whl.metadata (3.1 kB)\n",
      "Requirement already satisfied: urllib3>=1.25.5 in /usr/local/lib/python3.11/site-packages (from requests-cache) (2.0.6)\n",
      "Requirement already satisfied: python-dateutil>=2.8.2 in /usr/local/lib/python3.11/site-packages (from pandas) (2.8.2)\n",
      "Requirement already satisfied: pytz>=2020.1 in /usr/local/lib/python3.11/site-packages (from pandas) (2023.3.post1)\n",
      "Requirement already satisfied: tzdata>=2022.1 in /usr/local/lib/python3.11/site-packages (from pandas) (2023.3)\n",
      "Requirement already satisfied: six>=1.5 in /usr/local/lib/python3.11/site-packages (from python-dateutil>=2.8.2->pandas) (1.16.0)\n",
      "Requirement already satisfied: charset-normalizer<4,>=2 in /usr/local/lib/python3.11/site-packages (from requests>=2.22->requests-cache) (3.3.0)\n",
      "Requirement already satisfied: idna<4,>=2.5 in /usr/local/lib/python3.11/site-packages (from requests>=2.22->requests-cache) (3.4)\n",
      "Requirement already satisfied: certifi>=2017.4.17 in /usr/local/lib/python3.11/site-packages (from requests>=2.22->requests-cache) (2023.7.22)\n",
      "Downloading requests_cache-1.2.0-py3-none-any.whl (61 kB)\n",
      "\u001b[2K   \u001b[90m━━━━━━━━━━━━━━━━━━━━━━━━━━━━━━━━━━━━━━━━\u001b[0m \u001b[32m61.4/61.4 kB\u001b[0m \u001b[31m669.5 kB/s\u001b[0m eta \u001b[36m0:00:00\u001b[0ma \u001b[36m0:00:01\u001b[0m\n",
      "\u001b[?25hDownloading retry_requests-2.0.0-py3-none-any.whl (15 kB)\n",
      "Downloading cattrs-23.2.3-py3-none-any.whl (57 kB)\n",
      "\u001b[2K   \u001b[90m━━━━━━━━━━━━━━━━━━━━━━━━━━━━━━━━━━━━━━━━\u001b[0m \u001b[32m57.5/57.5 kB\u001b[0m \u001b[31m494.1 kB/s\u001b[0m eta \u001b[36m0:00:00\u001b[0ma \u001b[36m0:00:01\u001b[0m\n",
      "\u001b[?25hDownloading url_normalize-1.4.3-py2.py3-none-any.whl (6.8 kB)\n",
      "Installing collected packages: url-normalize, cattrs, retry-requests, requests-cache\n",
      "Successfully installed cattrs-23.2.3 requests-cache-1.2.0 retry-requests-2.0.0 url-normalize-1.4.3\n"
     ]
    }
   ],
   "source": [
    "!pip install openmeteo-requests\n",
    "!pip install requests-cache retry-requests numpy pandas"
   ]
  },
  {
   "cell_type": "markdown",
   "metadata": {},
   "source": [
    "## Defining libraries and client config"
   ]
  },
  {
   "cell_type": "code",
   "execution_count": 2,
   "metadata": {},
   "outputs": [],
   "source": [
    "import openmeteo_requests\n",
    "\n",
    "import requests_cache\n",
    "import pandas as pd\n",
    "from retry_requests import retry\n",
    "\n",
    "# Setup the Open-Meteo API client with cache and retry on error\n",
    "cache_session = requests_cache.CachedSession('.cache', expire_after = 3600)\n",
    "retry_session = retry(cache_session, retries = 5, backoff_factor = 0.2)\n",
    "openmeteo = openmeteo_requests.Client(session = retry_session)"
   ]
  },
  {
   "cell_type": "markdown",
   "metadata": {},
   "source": [
    "### POC"
   ]
  },
  {
   "cell_type": "code",
   "execution_count": 5,
   "metadata": {},
   "outputs": [
    {
     "name": "stdout",
     "output_type": "stream",
     "text": [
      "Coordinates 52.25°N 21.0°E\n",
      "Elevation 120.0 m asl\n",
      "Timezone b'Europe/Berlin' b'CEST'\n",
      "Timezone difference to GMT+0 7200 s\n",
      "                        date  sunshine_duration\n",
      "0  2024-02-04 22:00:00+00:00        2069.141113\n",
      "1  2024-02-05 22:00:00+00:00           0.000000\n",
      "2  2024-02-06 22:00:00+00:00           0.000000\n",
      "3  2024-02-07 22:00:00+00:00        3746.098145\n",
      "4  2024-02-08 22:00:00+00:00           0.000000\n",
      "5  2024-02-09 22:00:00+00:00           0.000000\n",
      "6  2024-02-10 22:00:00+00:00           0.000000\n",
      "7  2024-02-11 22:00:00+00:00           0.000000\n",
      "8  2024-02-12 22:00:00+00:00       14933.474609\n",
      "9  2024-02-13 22:00:00+00:00       29991.185547\n",
      "10 2024-02-14 22:00:00+00:00        9132.440430\n",
      "11 2024-02-15 22:00:00+00:00       29597.730469\n",
      "12 2024-02-16 22:00:00+00:00        4609.540039\n",
      "13 2024-02-17 22:00:00+00:00       24945.998047\n"
     ]
    }
   ],
   "source": [
    "# Make sure all required weather variables are listed here\n",
    "# The order of variables in hourly or daily is important to assign them correctly below\n",
    "url = \"https://api.open-meteo.com/v1/forecast\"\n",
    "params = {\n",
    "\t\"latitude\": 52.22201746504321,\n",
    "\t\"longitude\": 21.007023575894323,\n",
    "\t\"daily\": \"sunshine_duration\",\n",
    "\t\"timezone\": \"Europe/Berlin\",\n",
    "\t\"start_date\": \"2024-02-05\",\n",
    "\t\"end_date\": \"2024-02-18\"\n",
    "}\n",
    "responses = openmeteo.weather_api(url, params=params)\n",
    "\n",
    "# Process first location. Add a for-loop for multiple locations or weather models\n",
    "response = responses[0]\n",
    "print(f\"Coordinates {response.Latitude()}°N {response.Longitude()}°E\")\n",
    "print(f\"Elevation {response.Elevation()} m asl\")\n",
    "print(f\"Timezone {response.Timezone()} {response.TimezoneAbbreviation()}\")\n",
    "print(f\"Timezone difference to GMT+0 {response.UtcOffsetSeconds()} s\")\n",
    "\n",
    "# Process daily data. The order of variables needs to be the same as requested.\n",
    "daily = response.Daily()\n",
    "daily_sunshine_duration = daily.Variables(0).ValuesAsNumpy()\n",
    "\n",
    "daily_data = {\"date\": pd.date_range(\n",
    "\tstart = pd.to_datetime(daily.Time(), unit = \"s\", utc = True),\n",
    "\tend = pd.to_datetime(daily.TimeEnd(), unit = \"s\", utc = True),\n",
    "\tfreq = pd.Timedelta(seconds = daily.Interval()),\n",
    "\tinclusive = \"left\"\n",
    ")}\n",
    "daily_data[\"sunshine_duration\"] = daily_sunshine_duration\n",
    "\n",
    "daily_dataframe = pd.DataFrame(data = daily_data)\n",
    "print(daily_dataframe)"
   ]
  }
 ],
 "metadata": {
  "kernelspec": {
   "display_name": "Python 3",
   "language": "python",
   "name": "python3"
  },
  "language_info": {
   "codemirror_mode": {
    "name": "ipython",
    "version": 3
   },
   "file_extension": ".py",
   "mimetype": "text/x-python",
   "name": "python",
   "nbconvert_exporter": "python",
   "pygments_lexer": "ipython3",
   "version": "3.11.7"
  }
 },
 "nbformat": 4,
 "nbformat_minor": 2
}
